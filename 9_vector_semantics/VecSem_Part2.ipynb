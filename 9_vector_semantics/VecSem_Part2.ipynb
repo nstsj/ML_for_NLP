{
 "cells": [
  {
   "cell_type": "markdown",
   "metadata": {
    "id": "cer9yStBWMSr",
    "tags": []
   },
   "source": [
    "# Контекстуализированные эмбеддинги\n",
    "\n",
    "## 🐴 рабочая лошадь современной компьютерной лингвистики (с 2018 года)"
   ]
  },
  {
   "cell_type": "markdown",
   "metadata": {
    "id": "CavHPqchoEwm"
   },
   "source": [
    "До сих пор мы с вами говорили о **\"статических\" моделях** (‘static word embeddings’). И word2vec, и fastText и GloVe — статические модели. Т.е. в них **один раз обучается набор эмбеддингов** для каких-то текстовых единиц (слово или часть слова... условно назовем это токеном). И дальше мы работаем с таблицей эмбеддингов. \n",
    "\n",
    "У такого подхода есть очевидные **проблемы**: например, **полисемия**. Скорее всего, на этапе обучения мы смешаем разные значения слова в один вектор — и дальше всегда будем пихать именно его. В идеале нужно, чтобы эмбеддинг слова \"мышь\" частично зависел от того, как в принципе употребляется слово, но частично — и от текущего контекста. \n",
    "\n",
    "<img src='http://ai.stanford.edu/blog/assets/img/posts/2020-03-24-contextual/contextual_mouse_transparent_1.png'>\n",
    "\n",
    "В районе 2018-2019 произошел бум т.н. \"контекстуализированных\" моделей: ELMo, BERT, GPT-3, которые реализуют этот подход. В них эмбеддинг каждого слова зависит еще и от контекста, в котором оно употреблено. Следовательно, у нас уже нет никакой готовой единой таблицы эмбеддингов. Есть модель, которая на лету генерирует эмбеддинги каждого слова с учетом текущего контекста. \n",
    "\n",
    "<img src='http://ai.stanford.edu/blog/assets/img/posts/2020-03-24-contextual/contextual_mouse_transparent_2.png'>\n",
    "\n",
    "Посмотрим [это в работе](https://rusvectores.org/ru/contextual/) на русском языке.\n",
    "\n",
    "🚀 И это оказалось просто killer feature с точки зрения инженерии: на контекстуализированных эмбеддингах станадртные задачи NLP стали решаться гораздо лучше, чем на статических до этого!📈  BERT вообще стал универсальным швейцарским ножом* всея компьютерной лингвистики... \n",
    "\n",
    "**это связано не только с использвоанием контекстуализированных эмбеддингов, там сыграла свою роль удачная неросетевая архитектура Transformer, позволяющая обучить сеть на очень большом корпусе, а также наличие такового корпуса*"
   ]
  },
  {
   "cell_type": "markdown",
   "metadata": {
    "id": "3n_oZV6FTkxd"
   },
   "source": [
    "## Работаем  с ELMo"
   ]
  },
  {
   "cell_type": "markdown",
   "metadata": {
    "id": "LRhivLf0rCiV"
   },
   "source": [
    "К сожалению, библиотека gensim не поддерживает контекстуализированные модели (т.к. они принципиально отличаются от статическийх). Поэтому делать все так же, как раньше с word2vec и fastText, не получится\n",
    "\n",
    "Поэтому ниже мы будем генерировать контекстуализированные эмбеддинги при помощи ELMo в обертке под названием simple-elmo, которую сделал все тот же Андрей Кутузов со товарищи. "
   ]
  },
  {
   "cell_type": "code",
   "execution_count": null,
   "metadata": {
    "colab": {
     "base_uri": "https://localhost:8080/"
    },
    "id": "DyvmvPluPbDU",
    "outputId": "73b4e6a2-bd65-407c-f107-358e342d3362"
   },
   "outputs": [
    {
     "name": "stdout",
     "output_type": "stream",
     "text": [
      "Requirement already satisfied: simple_elmo in /usr/local/lib/python3.7/dist-packages (0.9.0)\n",
      "Requirement already satisfied: numpy in /usr/local/lib/python3.7/dist-packages (from simple_elmo) (1.21.5)\n",
      "Requirement already satisfied: h5py in /usr/local/lib/python3.7/dist-packages (from simple_elmo) (3.1.0)\n",
      "Requirement already satisfied: smart-open>1.8.1 in /usr/local/lib/python3.7/dist-packages (from simple_elmo) (5.2.1)\n",
      "Requirement already satisfied: scipy in /usr/local/lib/python3.7/dist-packages (from simple_elmo) (1.4.1)\n",
      "Requirement already satisfied: pandas in /usr/local/lib/python3.7/dist-packages (from simple_elmo) (1.3.5)\n",
      "Requirement already satisfied: cached-property in /usr/local/lib/python3.7/dist-packages (from h5py->simple_elmo) (1.5.2)\n",
      "Requirement already satisfied: python-dateutil>=2.7.3 in /usr/local/lib/python3.7/dist-packages (from pandas->simple_elmo) (2.8.2)\n",
      "Requirement already satisfied: pytz>=2017.3 in /usr/local/lib/python3.7/dist-packages (from pandas->simple_elmo) (2018.9)\n",
      "Requirement already satisfied: six>=1.5 in /usr/local/lib/python3.7/dist-packages (from python-dateutil>=2.7.3->pandas->simple_elmo) (1.15.0)\n"
     ]
    }
   ],
   "source": [
    "!pip3 install simple_elmo"
   ]
  },
  {
   "cell_type": "markdown",
   "metadata": {
    "id": "naUOX-xWgTDS"
   },
   "source": [
    "Возьмем **модель ELMo**, обученную командой RusVectores **на НКРЯ и русской Википедии** :"
   ]
  },
  {
   "cell_type": "code",
   "execution_count": null,
   "metadata": {
    "colab": {
     "base_uri": "https://localhost:8080/"
    },
    "id": "wuBwzasoPl4y",
    "outputId": "ec037c9e-5d4f-4311-8283-914bd2c8eb23"
   },
   "outputs": [
    {
     "name": "stdout",
     "output_type": "stream",
     "text": [
      "--2022-03-19 09:08:32--  http://vectors.nlpl.eu/repository/20/195.zip\n",
      "Resolving vectors.nlpl.eu (vectors.nlpl.eu)... 129.240.189.181\n",
      "Connecting to vectors.nlpl.eu (vectors.nlpl.eu)|129.240.189.181|:80... connected.\n",
      "HTTP request sent, awaiting response... 200 OK\n",
      "Length: 206977027 (197M) [application/zip]\n",
      "Saving to: ‘195.zip.1’\n",
      "\n",
      "195.zip.1           100%[===================>] 197.39M  27.2MB/s    in 7.9s    \n",
      "\n",
      "2022-03-19 09:08:41 (24.9 MB/s) - ‘195.zip.1’ saved [206977027/206977027]\n",
      "\n"
     ]
    }
   ],
   "source": [
    "!wget 'http://vectors.nlpl.eu/repository/20/195.zip'"
   ]
  },
  {
   "cell_type": "code",
   "execution_count": null,
   "metadata": {
    "id": "thO2ZAaZVPYy"
   },
   "outputs": [],
   "source": [
    "from simple_elmo import ElmoModel"
   ]
  },
  {
   "cell_type": "code",
   "execution_count": null,
   "metadata": {
    "id": "vuO-_b4RVYx9"
   },
   "outputs": [],
   "source": [
    "model = ElmoModel()"
   ]
  },
  {
   "cell_type": "markdown",
   "metadata": {
    "id": "cA52M8_HV8ql"
   },
   "source": [
    "Распакуем модель в наш объект ElmoModel, это займет прилично времени, минуты 3 ⌛  "
   ]
  },
  {
   "cell_type": "code",
   "execution_count": null,
   "metadata": {
    "colab": {
     "base_uri": "https://localhost:8080/",
     "height": 341
    },
    "id": "U9tmNUxcVcIO",
    "outputId": "3e20d780-cd01-4be1-f06b-8c691a0dc589"
   },
   "outputs": [
    {
     "name": "stderr",
     "output_type": "stream",
     "text": [
      "2022-03-19 09:11:20,595 : INFO : Loading model from 195.zip...\n",
      "2022-03-19 09:11:20,598 : INFO : \n",
      "            Assuming the model is a ZIP archive downloaded from the NLPL vector repository.\n",
      "            Loading a model from a ZIP archive directly is slower than from the extracted files,\n",
      "            but does not require additional disk space\n",
      "            and allows to load from directories without write permissions.\n",
      "            \n",
      "2022-03-19 09:11:20,601 : INFO : We will cache the vocabulary of 100 tokens.\n",
      "/usr/local/lib/python3.7/dist-packages/simple_elmo/model.py:531: UserWarning: `tf.nn.rnn_cell.LSTMCell` is deprecated and will be removed in a future version. This class is equivalent as `tf.keras.layers.LSTMCell`, and will be replaced by that in Tensorflow 2.0.\n",
      "  cell_clip=cell_clip, proj_clip=proj_clip)\n",
      "/usr/local/lib/python3.7/dist-packages/keras/layers/legacy_rnn/rnn_cell_impl.py:988: UserWarning: `layer.add_variable` is deprecated and will be removed in a future version. Please use `layer.add_weight` method instead.\n",
      "  partitioner=maybe_partitioner)\n",
      "/usr/local/lib/python3.7/dist-packages/keras/layers/legacy_rnn/rnn_cell_impl.py:996: UserWarning: `layer.add_variable` is deprecated and will be removed in a future version. Please use `layer.add_weight` method instead.\n",
      "  initializer=initializer)\n",
      "/usr/local/lib/python3.7/dist-packages/keras/layers/legacy_rnn/rnn_cell_impl.py:1013: UserWarning: `layer.add_variable` is deprecated and will be removed in a future version. Please use `layer.add_weight` method instead.\n",
      "  partitioner=maybe_proj_partitioner)\n"
     ]
    },
    {
     "data": {
      "application/vnd.google.colaboratory.intrinsic+json": {
       "type": "string"
      },
      "text/plain": [
       "'The model is now loaded.'"
      ]
     },
     "execution_count": 8,
     "metadata": {},
     "output_type": "execute_result"
    }
   ],
   "source": [
    "model.load(\"195.zip\")"
   ]
  },
  {
   "cell_type": "markdown",
   "metadata": {
    "id": "V2S8MgsJa7wF"
   },
   "source": [
    "Все, мы с вами загрузили модель. **Можно кормить ей тексты** (просто в виде списков токенов). Возьмем такой небольшой набор текстов:"
   ]
  },
  {
   "cell_type": "code",
   "execution_count": null,
   "metadata": {
    "id": "7jyTlZfKVfC0"
   },
   "outputs": [],
   "source": [
    "texts = ['у нас лук растет на грядке',\n",
    "         'составной лук — оружие кочевников',\n",
    "         'у маши модный лук в инсте',\n",
    "         'есть зеленый лук полезно для здоровья',\n",
    "         'кликни мышь по всплывающему окну на экране',\n",
    "         'домовая мышь очень плодовита и размножается круглый год',\n",
    "         'серая мышь грызет сыр']\n",
    "tokenized_texts = [text.split() for text in texts]"
   ]
  },
  {
   "cell_type": "code",
   "execution_count": null,
   "metadata": {
    "colab": {
     "base_uri": "https://localhost:8080/"
    },
    "id": "LOyPx1nL9jmH",
    "outputId": "8caf4aea-b2af-4ce6-b4f1-2e58cc5b2f4e"
   },
   "outputs": [
    {
     "data": {
      "text/plain": [
       "[['у', 'нас', 'лук', 'растет', 'на', 'грядке'],\n",
       " ['составной', 'лук', '—', 'оружие', 'кочевников'],\n",
       " ['у', 'маши', 'модный', 'лук', 'в', 'инсте'],\n",
       " ['есть', 'зеленый', 'лук', 'полезно', 'для', 'здоровья'],\n",
       " ['кликни', 'мышь', 'по', 'всплывающему', 'окну', 'на', 'экране'],\n",
       " ['домовая',\n",
       "  'мышь',\n",
       "  'очень',\n",
       "  'плодовита',\n",
       "  'и',\n",
       "  'размножается',\n",
       "  'круглый',\n",
       "  'год'],\n",
       " ['серая', 'мышь', 'грызет', 'сыр']]"
      ]
     },
     "execution_count": 7,
     "metadata": {
      "tags": []
     },
     "output_type": "execute_result"
    }
   ],
   "source": [
    "tokenized_texts"
   ]
  },
  {
   "cell_type": "code",
   "execution_count": null,
   "metadata": {
    "colab": {
     "base_uri": "https://localhost:8080/"
    },
    "id": "aT7e1xNbaR4h",
    "outputId": "fe1b2223-25bf-4b5e-d0bc-26b022b7fa5d"
   },
   "outputs": [
    {
     "name": "stderr",
     "output_type": "stream",
     "text": [
      "2022-03-19 09:35:18,876 : INFO : Warming up ELMo on 7 sentences...\n",
      "2022-03-19 09:35:20,046 : INFO : Warming up finished.\n",
      "2022-03-19 09:35:20,051 : INFO : Texts in the current batch: 7\n"
     ]
    }
   ],
   "source": [
    "vectors = model.get_elmo_vectors(tokenized_texts)"
   ]
  },
  {
   "cell_type": "code",
   "execution_count": null,
   "metadata": {
    "colab": {
     "base_uri": "https://localhost:8080/"
    },
    "id": "1aZfQktua4Vo",
    "outputId": "456c14eb-dc7c-442f-a4d6-1a9b2c4e6be7"
   },
   "outputs": [
    {
     "data": {
      "text/plain": [
       "(7, 8, 1024)"
      ]
     },
     "execution_count": 11,
     "metadata": {},
     "output_type": "execute_result"
    }
   ],
   "source": [
    "vectors.shape"
   ]
  },
  {
   "cell_type": "markdown",
   "metadata": {
    "id": "DGJwCwC7hy2U"
   },
   "source": [
    "7 - это число наших предложений, 8 - максимальное количество слов в предложении, а 1024 - это размерность ELMo-вектора для каждого слова в данной модели"
   ]
  },
  {
   "cell_type": "code",
   "execution_count": null,
   "metadata": {
    "colab": {
     "base_uri": "https://localhost:8080/"
    },
    "id": "gUydyz44ilyz",
    "outputId": "269d3675-1c47-4d8c-c389-162993e8eed3"
   },
   "outputs": [
    {
     "data": {
      "text/plain": [
       "array([ 0.35561803,  1.32152927, -0.71108752, ...,  0.72540092,\n",
       "       -0.0944491 , -0.09786855])"
      ]
     },
     "execution_count": 21,
     "metadata": {},
     "output_type": "execute_result"
    }
   ],
   "source": [
    "vectors[0][2] # эмбеддинг слова лук из первого предложения, оно третье по счету 🌰"
   ]
  },
  {
   "cell_type": "markdown",
   "metadata": {
    "id": "S_rye82vhf7b"
   },
   "source": [
    "Удостоверимся, что это он :)"
   ]
  },
  {
   "cell_type": "code",
   "execution_count": null,
   "metadata": {
    "colab": {
     "base_uri": "https://localhost:8080/"
    },
    "id": "aq0vRGQYhXuD",
    "outputId": "3ac523e6-ef00-4114-a491-35ef2ee36fca"
   },
   "outputs": [
    {
     "data": {
      "text/plain": [
       "['составной', 'лук', '—', 'оружие', 'кочевников']"
      ]
     },
     "execution_count": 18,
     "metadata": {},
     "output_type": "execute_result"
    }
   ],
   "source": [
    "tokenized_texts[1] # третье слово первого предложения"
   ]
  },
  {
   "cell_type": "code",
   "execution_count": null,
   "metadata": {
    "colab": {
     "base_uri": "https://localhost:8080/"
    },
    "id": "PSE61AFCi1xC",
    "outputId": "6602e7af-6462-4b2b-aa1f-0df14cb21d5d"
   },
   "outputs": [
    {
     "data": {
      "text/plain": [
       "array([-0.26929721,  0.99860299,  0.03584307, ...,  0.15998191,\n",
       "       -0.03888339,  0.45887583])"
      ]
     },
     "execution_count": 22,
     "metadata": {},
     "output_type": "execute_result"
    }
   ],
   "source": [
    "vectors[1][1] # эмбеддинг слова лук из второго предложения 🏹"
   ]
  },
  {
   "cell_type": "code",
   "execution_count": null,
   "metadata": {
    "colab": {
     "base_uri": "https://localhost:8080/"
    },
    "id": "XU-QrErUi57F",
    "outputId": "850bef62-5c2e-493b-8c40-5f3deaaae45e"
   },
   "outputs": [
    {
     "data": {
      "text/plain": [
       "['у', 'маши', 'модный', 'лук', 'в', 'инсте']"
      ]
     },
     "execution_count": 23,
     "metadata": {},
     "output_type": "execute_result"
    }
   ],
   "source": [
    "tokenized_texts[2]"
   ]
  },
  {
   "cell_type": "markdown",
   "metadata": {
    "id": "MSemy3sslPQK"
   },
   "source": [
    "Циферки у двух луков разные, ура! Посмотрим и на третий:\n"
   ]
  },
  {
   "cell_type": "code",
   "execution_count": null,
   "metadata": {
    "colab": {
     "base_uri": "https://localhost:8080/"
    },
    "id": "h1k7wFLEj2RV",
    "outputId": "84d24a4b-e17c-452e-aedd-76e435bfa00a"
   },
   "outputs": [
    {
     "data": {
      "text/plain": [
       "array([ 0.29420635,  1.11927152, -0.27903551, ...,  0.2028628 ,\n",
       "       -0.19678339,  0.14220186])"
      ]
     },
     "execution_count": 24,
     "metadata": {},
     "output_type": "execute_result"
    }
   ],
   "source": [
    "vectors[2][3] # эмбеддинг слова лук из третьего предложения 🤳"
   ]
  },
  {
   "cell_type": "markdown",
   "metadata": {
    "id": "d24mXqeuk2KB"
   },
   "source": [
    "NB: Здесь нам показывают не весь вектор, только начало и конец. Потому что всего в нем 1024 компонента:"
   ]
  },
  {
   "cell_type": "code",
   "execution_count": null,
   "metadata": {
    "colab": {
     "base_uri": "https://localhost:8080/"
    },
    "id": "6N4HC79BkAx7",
    "outputId": "c61ec883-a22a-4c57-f8c7-869ff1e8c3c0"
   },
   "outputs": [
    {
     "data": {
      "text/plain": [
       "(1024,)"
      ]
     },
     "execution_count": 15,
     "metadata": {
      "tags": []
     },
     "output_type": "execute_result"
    }
   ],
   "source": [
    "vectors[2][3].shape"
   ]
  },
  {
   "cell_type": "markdown",
   "metadata": {
    "id": "KdJFJ64Eb1Nw"
   },
   "source": [
    "Но как же их все сравнить?"
   ]
  },
  {
   "cell_type": "code",
   "execution_count": null,
   "metadata": {
    "id": "YsgphLRyudHn"
   },
   "outputs": [],
   "source": [
    "#\n",
    "\n",
    "\n",
    "\n",
    "\n",
    "\n",
    "\n",
    "\n",
    "\n",
    "\n",
    "\n",
    "\n",
    "\n",
    "\n",
    "\n",
    "\n",
    "\n",
    "\n",
    "\n",
    "\n",
    "\n",
    "\n",
    "#"
   ]
  },
  {
   "cell_type": "markdown",
   "metadata": {
    "id": "MgcrTZ23s255"
   },
   "source": [
    "<img src = 'https://github.com/dhhse/dh2020/raw/master/pics/distances.png'>"
   ]
  },
  {
   "cell_type": "code",
   "execution_count": null,
   "metadata": {
    "id": "7BuVS51OlBlA"
   },
   "outputs": [],
   "source": [
    "from scipy import spatial # для подсчета косинусного расстояния"
   ]
  },
  {
   "cell_type": "code",
   "execution_count": null,
   "metadata": {
    "colab": {
     "base_uri": "https://localhost:8080/"
    },
    "id": "xyIPSkEik979",
    "outputId": "1802735a-6f5f-43e7-e7a9-42495fe47929"
   },
   "outputs": [
    {
     "data": {
      "text/plain": [
       "['серая', 'мышь', 'грызет', 'сыр']"
      ]
     },
     "execution_count": 29,
     "metadata": {},
     "output_type": "execute_result"
    }
   ],
   "source": [
    "tokenized_texts[6]"
   ]
  },
  {
   "cell_type": "code",
   "execution_count": null,
   "metadata": {
    "id": "zQ8PmCzil568"
   },
   "outputs": [],
   "source": [
    "onion = vectors[0][2] # 🌰\n",
    "onion2 = vectors[3][2] # 🌰 еще один лук-растение из 4-го предложения\n",
    "bow = vectors[1][1] # 🏹\n",
    "look = vectors[2][3] # 🤳\n",
    "\n",
    "\n",
    "mouse_computer = vectors[4][1] # 🖱️ \n",
    "mouse_rodent = vectors[5][1] # 🐁\n",
    "mouse_rodent_2 = vectors[6][1] # 🐁"
   ]
  },
  {
   "cell_type": "code",
   "execution_count": null,
   "metadata": {
    "colab": {
     "base_uri": "https://localhost:8080/"
    },
    "id": "IzyuvPdMXv6W",
    "outputId": "e00692b5-febd-4d5b-bb88-4792f7a7aa8c"
   },
   "outputs": [
    {
     "data": {
      "text/plain": [
       "0.0"
      ]
     },
     "execution_count": 32,
     "metadata": {},
     "output_type": "execute_result"
    }
   ],
   "source": [
    "# смотрим расстояния\n",
    "spatial.distance.cosine(onion, onion)"
   ]
  },
  {
   "cell_type": "code",
   "execution_count": null,
   "metadata": {
    "colab": {
     "base_uri": "https://localhost:8080/"
    },
    "id": "g7EGiVMjltbP",
    "outputId": "d2c23908-889a-488f-e96d-af8851240bb7"
   },
   "outputs": [
    {
     "data": {
      "text/plain": [
       "0.2998322061974956"
      ]
     },
     "execution_count": 33,
     "metadata": {},
     "output_type": "execute_result"
    }
   ],
   "source": [
    "spatial.distance.cosine(onion, bow)"
   ]
  },
  {
   "cell_type": "code",
   "execution_count": null,
   "metadata": {
    "colab": {
     "base_uri": "https://localhost:8080/"
    },
    "id": "7xfnyfw8mpie",
    "outputId": "fc773ae8-fd67-467d-87a9-083183e54cf3"
   },
   "outputs": [
    {
     "data": {
      "text/plain": [
       "0.186398592087878"
      ]
     },
     "execution_count": 34,
     "metadata": {},
     "output_type": "execute_result"
    }
   ],
   "source": [
    "spatial.distance.cosine(onion, onion2)"
   ]
  },
  {
   "cell_type": "code",
   "execution_count": null,
   "metadata": {
    "colab": {
     "base_uri": "https://localhost:8080/"
    },
    "id": "jDmiElPWmFlB",
    "outputId": "071f2b0b-6817-44ac-f560-77956bbc166e"
   },
   "outputs": [
    {
     "data": {
      "text/plain": [
       "['у', 'маши', 'модный', 'лук', 'в', 'инсте']"
      ]
     },
     "execution_count": 40,
     "metadata": {},
     "output_type": "execute_result"
    }
   ],
   "source": [
    "tokenized_texts[2]"
   ]
  },
  {
   "cell_type": "code",
   "execution_count": null,
   "metadata": {
    "colab": {
     "base_uri": "https://localhost:8080/"
    },
    "id": "zatFFjZZl7Ur",
    "outputId": "38a27de0-b178-4bb3-ef6c-16c0e28410b0"
   },
   "outputs": [
    {
     "data": {
      "text/plain": [
       "0.1648769908973401"
      ]
     },
     "execution_count": 37,
     "metadata": {},
     "output_type": "execute_result"
    }
   ],
   "source": [
    "spatial.distance.cosine(onion, look)"
   ]
  },
  {
   "cell_type": "markdown",
   "metadata": {
    "id": "gixumS7Un03a"
   },
   "source": [
    "Ну вот, луки в одном значении ближе друг другу. В принципе это все, что нам нужно. "
   ]
  },
  {
   "cell_type": "code",
   "execution_count": null,
   "metadata": {
    "colab": {
     "base_uri": "https://localhost:8080/"
    },
    "id": "SDkmiUoczaHH",
    "outputId": "0c804703-1182-438f-da79-c3401c8011e0"
   },
   "outputs": [
    {
     "data": {
      "text/plain": [
       "0.0"
      ]
     },
     "execution_count": 41,
     "metadata": {},
     "output_type": "execute_result"
    }
   ],
   "source": [
    "spatial.distance.cosine(mouse_computer,mouse_computer)"
   ]
  },
  {
   "cell_type": "code",
   "execution_count": null,
   "metadata": {
    "colab": {
     "base_uri": "https://localhost:8080/"
    },
    "id": "YeZlPX2S7OeS",
    "outputId": "c2538b33-ebe0-435d-8cdb-2d012e5b9e05"
   },
   "outputs": [
    {
     "data": {
      "text/plain": [
       "0.33782239754595733"
      ]
     },
     "execution_count": 42,
     "metadata": {},
     "output_type": "execute_result"
    }
   ],
   "source": [
    "spatial.distance.cosine(mouse_computer, mouse_rodent)"
   ]
  },
  {
   "cell_type": "code",
   "execution_count": null,
   "metadata": {
    "colab": {
     "base_uri": "https://localhost:8080/"
    },
    "id": "UFN8GjCnX2Hv",
    "outputId": "d6fe8946-aa03-474a-d8e7-57974f05626d"
   },
   "outputs": [
    {
     "data": {
      "text/plain": [
       "0.3432023472204947"
      ]
     },
     "execution_count": 43,
     "metadata": {},
     "output_type": "execute_result"
    }
   ],
   "source": [
    "spatial.distance.cosine(mouse_computer, mouse_rodent_2)"
   ]
  },
  {
   "cell_type": "code",
   "execution_count": null,
   "metadata": {
    "colab": {
     "base_uri": "https://localhost:8080/"
    },
    "id": "3u2UiLlsX4g_",
    "outputId": "b4986904-6211-4f62-f236-e4d076c7ec2f"
   },
   "outputs": [
    {
     "data": {
      "text/plain": [
       "0.1664347777387558"
      ]
     },
     "execution_count": 44,
     "metadata": {},
     "output_type": "execute_result"
    }
   ],
   "source": [
    "spatial.distance.cosine(mouse_rodent, mouse_rodent_2)"
   ]
  },
  {
   "cell_type": "markdown",
   "metadata": {
    "id": "vVQmng-ldt2O"
   },
   "source": [
    "Мыши тоже! "
   ]
  },
  {
   "cell_type": "markdown",
   "metadata": {
    "id": "qLiFFb2Z4VlI"
   },
   "source": [
    "## Визуализируем это\n",
    "\n",
    "Мы измерили расстояния между векторами в пространстве 1024 измерений. Напрямую такое визуализировать сложно. Но есть много методов понижения размерности до 2-3 измерений, что уже можно визуализировать. Воспользуемся одним из классических методов — PCA (вот [его шикарное объяснение](http://math-info.hse.ru/f/2015-16/ling-mag-quant/lecture-pca.html) от Ильи Щурова) "
   ]
  },
  {
   "cell_type": "code",
   "execution_count": null,
   "metadata": {
    "id": "V27Zwe162F7Y"
   },
   "outputs": [],
   "source": [
    "from sklearn.decomposition import PCA"
   ]
  },
  {
   "cell_type": "markdown",
   "metadata": {
    "id": "zBubzlmn_Stb"
   },
   "source": [
    "Засунем наши данные в PCA (подсмотрено [тут](https://stackoverflow.com/questions/14432557/matplotlib-scatter-plot-with-different-text-at-each-data-point), [тут](https://matplotlib.org/stable/gallery/lines_bars_and_markers/scatter_with_legend.html) и [тут](https://towardsdatascience.com/pca-using-python-scikit-learn-e653f8989e60))"
   ]
  },
  {
   "cell_type": "code",
   "execution_count": null,
   "metadata": {
    "id": "TekwYL0W2H9V"
   },
   "outputs": [],
   "source": [
    "pca_for_words = PCA ().fit_transform ([onion, bow, look, onion2, mouse_computer, mouse_rodent, mouse_rodent_2])"
   ]
  },
  {
   "cell_type": "code",
   "execution_count": null,
   "metadata": {
    "id": "HOt8DKaroQiV"
   },
   "outputs": [],
   "source": [
    "pca_for_words"
   ]
  },
  {
   "cell_type": "code",
   "execution_count": null,
   "metadata": {
    "colab": {
     "base_uri": "https://localhost:8080/"
    },
    "id": "kleMS2N7o_ga",
    "outputId": "8a1dca8b-6447-4ef6-dc94-037790447f0a"
   },
   "outputs": [
    {
     "data": {
      "text/plain": [
       "array([-1.61402669, -0.92130545,  2.12589833,  0.52349978,  8.60525847,\n",
       "       -4.2993354 , -4.41998905])"
      ]
     },
     "execution_count": 56,
     "metadata": {},
     "output_type": "execute_result"
    }
   ],
   "source": [
    "pca_for_words[:,1]"
   ]
  },
  {
   "cell_type": "markdown",
   "metadata": {
    "id": "2hToeo3J_tNt"
   },
   "source": [
    "Визуализируем матплотлибом (это сейчас вникать не нужно, про матплотлиб будет отдельная пара)"
   ]
  },
  {
   "cell_type": "code",
   "execution_count": null,
   "metadata": {
    "id": "6qsTyMye7V-X"
   },
   "outputs": [],
   "source": [
    "from matplotlib import pyplot as plt"
   ]
  },
  {
   "cell_type": "code",
   "execution_count": null,
   "metadata": {
    "colab": {
     "base_uri": "https://localhost:8080/",
     "height": 283
    },
    "id": "0sE6DTfp2Nez",
    "outputId": "a366ee8a-d906-48c3-e0d9-f62c835613bb"
   },
   "outputs": [
    {
     "data": {
      "text/plain": [
       "<matplotlib.collections.PathCollection at 0x7f3e65385b10>"
      ]
     },
     "execution_count": 58,
     "metadata": {},
     "output_type": "execute_result"
    },
    {
     "data": {
      "image/png": "[encoded data removed]",
      "text/plain": [
       "<Figure size 432x288 with 1 Axes>"
      ]
     },
     "metadata": {
      "needs_background": "light"
     },
     "output_type": "display_data"
    }
   ],
   "source": [
    "plt.scatter(pca_for_words[:,0], pca_for_words[:,1])"
   ]
  },
  {
   "cell_type": "markdown",
   "metadata": {
    "id": "LFhOWhfv44hP"
   },
   "source": [
    "Это расстояния между нашими словами. Хорошо бы еще подписи:"
   ]
  },
  {
   "cell_type": "code",
   "execution_count": null,
   "metadata": {
    "colab": {
     "base_uri": "https://localhost:8080/",
     "height": 265
    },
    "id": "Tar79or_23WN",
    "outputId": "7fdd6f20-10b0-4767-e9d5-6b28276b4597"
   },
   "outputs": [
    {
     "data": {
      "image/png": "[encoded data removed]",
      "text/plain": [
       "<Figure size 432x288 with 1 Axes>"
      ]
     },
     "metadata": {
      "needs_background": "light"
     },
     "output_type": "display_data"
    }
   ],
   "source": [
    "selected_vectors = [onion, bow, look, onion2, mouse_computer, mouse_rodent, mouse_rodent_2]\n",
    "\n",
    "labels = ['onion', 'bow', 'look', 'onion2', 'mouse_computer', 'mouse_rodent', 'mouse_rodent_2']\n",
    "\n",
    "for vector_index in range (len(selected_vectors)):\n",
    "\n",
    "    plt.scatter (pca_for_words[vector_index][0], pca_for_words[vector_index][1], linewidth=12)\n",
    "\n",
    "    plt.text(pca_for_words[vector_index][0], pca_for_words[vector_index][1], labels[vector_index], fontsize=11 )"
   ]
  },
  {
   "cell_type": "markdown",
   "metadata": {
    "id": "sCgdbfSc7tMo"
   },
   "source": [
    "C мышью работает получше. На луках плохо видно расстояния -- кажется, что они все примерно близки. Но мы же знаем уже, что onion и onion2 ближе, чем onion и bow. Просто визуализация наша тоже не без проблем -- ведь тут 1024 измерения сжаты в 2. Давайте посмотрим отдельно на луки:"
   ]
  },
  {
   "cell_type": "code",
   "execution_count": null,
   "metadata": {
    "colab": {
     "base_uri": "https://localhost:8080/",
     "height": 267
    },
    "id": "G07tpzcq733b",
    "outputId": "868b0018-148f-4858-913d-5e1af05da60d"
   },
   "outputs": [
    {
     "data": {
      "image/png": "[encoded data removed]",
      "text/plain": [
       "<Figure size 432x288 with 1 Axes>"
      ]
     },
     "metadata": {
      "needs_background": "light"
     },
     "output_type": "display_data"
    }
   ],
   "source": [
    "selected_vectors = [onion, bow, look, onion2]\n",
    "labels = ['onion', 'bow', 'look', 'onion2']\n",
    "\n",
    "for vector_index in range (len(selected_vectors)):\n",
    "  plt.scatter (pca_for_words[vector_index][2], pca_for_words[vector_index][3], linewidth=10)\n",
    "  plt.text(pca_for_words[vector_index][2], pca_for_words[vector_index][3], labels[vector_index], fontsize=15)"
   ]
  },
  {
   "cell_type": "markdown",
   "metadata": {
    "id": "FeGH5Gj38UBW"
   },
   "source": [
    "Так чуть лучше. \n",
    "\n",
    "Еще продвинутые люди используют t-SNE или uMAP вместо  PCA."
   ]
  },
  {
   "cell_type": "markdown",
   "metadata": {
    "id": "uNUzGXRseEQJ"
   },
   "source": [
    "## Стоп, а что там с предобработкой? Не надо ли лемматизировать? "
   ]
  },
  {
   "cell_type": "markdown",
   "metadata": {
    "id": "sR8Dxr_heykU"
   },
   "source": [
    "В западном NLP генеральный тренд — все меньше и меньше предобработки. Типа \"сделайте нейронку помощнее -- и она вообще все сможет сама\". \n",
    "\n",
    "🔎 Проверим — поменяем одинаковые формы слов на разные:"
   ]
  },
  {
   "cell_type": "code",
   "execution_count": null,
   "metadata": {
    "id": "oOWugR3Qd5u3"
   },
   "outputs": [],
   "source": [
    "texts = ['у нас лук растет на грядке',\n",
    "         'составные луки — оружие кочевников',\n",
    "         'у маши модный лук в инсте',\n",
    "         'питаться зеленым луком полезно для здоровья',\n",
    "         'кликни мышью по всплывающему окну на экране',\n",
    "         'домовые мыши очень плодовиты и размножаются круглый год',\n",
    "         'серая мышь грызет сыр']\n",
    "tokenized_texts = [text.split() for text in texts]"
   ]
  },
  {
   "cell_type": "code",
   "execution_count": null,
   "metadata": {
    "colab": {
     "base_uri": "https://localhost:8080/"
    },
    "id": "6OjEn8uVeOaU",
    "outputId": "61991c36-f13d-4a31-f160-9981b9d3b384"
   },
   "outputs": [
    {
     "name": "stderr",
     "output_type": "stream",
     "text": [
      "2022-03-19 10:24:17,943 : INFO : Warming up ELMo on 7 sentences...\n",
      "2022-03-19 10:24:18,787 : INFO : Warming up finished.\n",
      "2022-03-19 10:24:18,790 : INFO : Texts in the current batch: 7\n"
     ]
    }
   ],
   "source": [
    "vectors = model.get_elmo_vectors(tokenized_texts)"
   ]
  },
  {
   "cell_type": "code",
   "execution_count": null,
   "metadata": {
    "id": "SJuamtAneC9Z"
   },
   "outputs": [],
   "source": [
    "onion = vectors[0][2] # 🌰\n",
    "bow = vectors[1][1] # 🏹\n",
    "look = vectors[2][3] # 🤳\n",
    "onion2 = vectors[3][2] # 🌰 \n",
    "mouse_computer = vectors[4][1] # 🖱️ \n",
    "mouse_rodent = vectors[5][1] # 🐁\n",
    "mouse_rodent_2 = vectors[6][1] # 🐁"
   ]
  },
  {
   "cell_type": "code",
   "execution_count": null,
   "metadata": {
    "colab": {
     "base_uri": "https://localhost:8080/"
    },
    "id": "_UvIBAeseTGM",
    "outputId": "fb6adfbd-fd80-48e7-cb4b-ea019940eb91"
   },
   "outputs": [
    {
     "data": {
      "text/plain": [
       "0.5886786285387999"
      ]
     },
     "execution_count": 57,
     "metadata": {
      "tags": []
     },
     "output_type": "execute_result"
    }
   ],
   "source": [
    "# 🖱️ vs 🐁 \n",
    "spatial.distance.cosine(mouse_computer, mouse_rodent)"
   ]
  },
  {
   "cell_type": "code",
   "execution_count": null,
   "metadata": {
    "colab": {
     "base_uri": "https://localhost:8080/"
    },
    "id": "O7K3jqbVeUj5",
    "outputId": "409521ea-8b27-4cb5-9dce-7f794e062cb6"
   },
   "outputs": [
    {
     "data": {
      "text/plain": [
       "0.6195594491455085"
      ]
     },
     "execution_count": 58,
     "metadata": {
      "tags": []
     },
     "output_type": "execute_result"
    }
   ],
   "source": [
    "# 🖱️ vs 🐁 \n",
    "spatial.distance.cosine(mouse_computer, mouse_rodent_2)"
   ]
  },
  {
   "cell_type": "code",
   "execution_count": null,
   "metadata": {
    "colab": {
     "base_uri": "https://localhost:8080/"
    },
    "id": "8Zt0z0H2eWh0",
    "outputId": "a7cf10d4-a8ca-4916-bdcb-88675f4a8a85"
   },
   "outputs": [
    {
     "data": {
      "text/plain": [
       "0.39786281128502665"
      ]
     },
     "execution_count": 59,
     "metadata": {
      "tags": []
     },
     "output_type": "execute_result"
    }
   ],
   "source": [
    "# 🐁  vs 🐁 \n",
    "spatial.distance.cosine(mouse_rodent, mouse_rodent_2)"
   ]
  },
  {
   "cell_type": "markdown",
   "metadata": {
    "id": "ymPXroa_hEUX"
   },
   "source": [
    "Вроде и так срабатывает.\n"
   ]
  },
  {
   "cell_type": "code",
   "execution_count": null,
   "metadata": {
    "colab": {
     "base_uri": "https://localhost:8080/"
    },
    "id": "QAEnc9w2eYUE",
    "outputId": "a023030a-0aff-410d-8c3f-69a6aabcddaa"
   },
   "outputs": [
    {
     "data": {
      "text/plain": [
       "0.542996678256181"
      ]
     },
     "execution_count": 60,
     "metadata": {
      "tags": []
     },
     "output_type": "execute_result"
    }
   ],
   "source": [
    "spatial.distance.cosine(onion, bow)"
   ]
  },
  {
   "cell_type": "code",
   "execution_count": null,
   "metadata": {
    "colab": {
     "base_uri": "https://localhost:8080/"
    },
    "id": "4H-QW8v7hSHM",
    "outputId": "20b28f8c-837d-4e37-f621-918421764f13"
   },
   "outputs": [
    {
     "data": {
      "text/plain": [
       "0.49536833364179045"
      ]
     },
     "execution_count": 61,
     "metadata": {
      "tags": []
     },
     "output_type": "execute_result"
    }
   ],
   "source": [
    "spatial.distance.cosine(onion, onion2)"
   ]
  },
  {
   "cell_type": "markdown",
   "metadata": {
    "id": "PVjr8eZ_i9VE"
   },
   "source": [
    "Тут тоже вроде срабатывает, но хуже\n"
   ]
  },
  {
   "cell_type": "markdown",
   "metadata": {
    "id": "GbAfL0JSAqYw"
   },
   "source": [
    "## Ломаем модель"
   ]
  },
  {
   "cell_type": "markdown",
   "metadata": {
    "id": "7vuchVJ_i2El"
   },
   "source": [
    "Но легко может поломаться. Особенно если слова в разных значениях стоят в одной форме:"
   ]
  },
  {
   "cell_type": "code",
   "execution_count": null,
   "metadata": {
    "id": "DnmhnxgAiGdM"
   },
   "outputs": [],
   "source": [
    "texts = ['у нас лук растет на грядке',\n",
    "         'составной лук — оружие кочевников',\n",
    "         'у маши модный лук в инсте',\n",
    "         'питаться зеленым луком полезно для здоровья',\n",
    "         'кликни мышью по всплывающему окну на экране',\n",
    "         'домовые мыши очень плодовиты и размножаются круглый год',\n",
    "         'серая мышь грызет сыр']\n",
    "tokenized_texts = [text.split() for text in texts]"
   ]
  },
  {
   "cell_type": "code",
   "execution_count": null,
   "metadata": {
    "colab": {
     "base_uri": "https://localhost:8080/"
    },
    "id": "Aw0qgZ0Si-yg",
    "outputId": "2cc0a3de-2a13-4076-8333-cfd4257fd24a"
   },
   "outputs": [
    {
     "name": "stderr",
     "output_type": "stream",
     "text": [
      "2022-03-19 10:29:34,019 : INFO : Warming up ELMo on 7 sentences...\n",
      "2022-03-19 10:29:35,652 : INFO : Warming up finished.\n",
      "2022-03-19 10:29:35,655 : INFO : Texts in the current batch: 7\n"
     ]
    }
   ],
   "source": [
    "vectors = model.get_elmo_vectors(tokenized_texts)"
   ]
  },
  {
   "cell_type": "code",
   "execution_count": null,
   "metadata": {
    "id": "BBMPWYY8jC9V"
   },
   "outputs": [],
   "source": [
    "onion = vectors[0][2] # 🌰\n",
    "bow = vectors[1][1] # 🏹\n",
    "look = vectors[2][3] # 🤳\n",
    "onion2 = vectors[3][2] # 🌰 \n",
    "mouse_computer = vectors[4][1] # 🖱️ \n",
    "mouse_rodent = vectors[5][1] # 🐁\n",
    "mouse_rodent_2 = vectors[6][1] # 🐁"
   ]
  },
  {
   "cell_type": "code",
   "execution_count": null,
   "metadata": {
    "colab": {
     "base_uri": "https://localhost:8080/"
    },
    "id": "8AkMfOYYjH-J",
    "outputId": "7b030130-1eb9-4d0b-9a4a-1fd556593fb4"
   },
   "outputs": [
    {
     "data": {
      "text/plain": [
       "0.2998322061974956"
      ]
     },
     "execution_count": 81,
     "metadata": {},
     "output_type": "execute_result"
    }
   ],
   "source": [
    "spatial.distance.cosine(onion, bow)"
   ]
  },
  {
   "cell_type": "code",
   "execution_count": null,
   "metadata": {
    "colab": {
     "base_uri": "https://localhost:8080/"
    },
    "id": "CXQsQJwhjMDs",
    "outputId": "c787e71b-ba2e-4d99-8d81-4b9819d3e11a"
   },
   "outputs": [
    {
     "data": {
      "text/plain": [
       "0.49536833364179045"
      ]
     },
     "execution_count": 82,
     "metadata": {},
     "output_type": "execute_result"
    }
   ],
   "source": [
    "spatial.distance.cosine(onion, onion2)"
   ]
  },
  {
   "cell_type": "code",
   "execution_count": null,
   "metadata": {
    "colab": {
     "base_uri": "https://localhost:8080/",
     "height": 265
    },
    "id": "nCcgwTl3-MVq",
    "outputId": "32945087-0df5-4e43-8698-d3b86fe22029"
   },
   "outputs": [
    {
     "data": {
      "image/png": "[encoded data removed]",
      "text/plain": [
       "<Figure size 432x288 with 1 Axes>"
      ]
     },
     "metadata": {
      "needs_background": "light"
     },
     "output_type": "display_data"
    }
   ],
   "source": [
    "pca_for_words = PCA ().fit_transform ([onion, bow, look, onion2, mouse_computer, mouse_rodent, mouse_rodent_2])\n",
    "selected_vectors = [onion, bow, look, onion2, mouse_computer, mouse_rodent, mouse_rodent_2]\n",
    "labels = ['onion', 'bow', 'look', 'onion2', 'mouse_computer', 'mouse_rodent', 'mouse_rodent_2']\n",
    "\n",
    "for vector_index in range (len(selected_vectors)):\n",
    "  plt.scatter (pca_for_words[vector_index][0], pca_for_words[vector_index][1])\n",
    "  plt.text(pca_for_words[vector_index][0], pca_for_words[vector_index][1], labels[vector_index], fontsize=12)"
   ]
  },
  {
   "cell_type": "markdown",
   "metadata": {
    "id": "jVDRncOvjCjn"
   },
   "source": [
    "Здесь против нас явно играет то, что модель обучалась на словоформах (а не на леммах) и считает, что лук и лук все-таки больше похожи, чем лук и луком, даже несмотря на контекст. \n",
    "\n",
    "И исследования показывают, что целом для русского языка лучше все-таки пользоваться предобработкой даже с контекстуализированными моделями (либо использовать модели, которые не со словами работают). \n",
    "\n",
    "Вот статья снова же Андрея Кутузова, где он показывает, что для русского лемматизация **таки нужна**: \n",
    "\n",
    " [To lemmatize or not to lemmatize: how word normalisation affects ELMo performance in word sense disambiguation](https://arxiv.org/abs/1909.03135)\n"
   ]
  },
  {
   "cell_type": "markdown",
   "metadata": {
    "id": "CXcBNwlapgPw"
   },
   "source": [
    "## Попробуем лемматизировать"
   ]
  },
  {
   "cell_type": "code",
   "execution_count": null,
   "metadata": {
    "colab": {
     "base_uri": "https://localhost:8080/"
    },
    "id": "AUOYEobGjthD",
    "outputId": "71996ecc-fd5d-4515-a017-659870631c27"
   },
   "outputs": [
    {
     "name": "stdout",
     "output_type": "stream",
     "text": [
      "Collecting pymorphy2\n",
      "  Downloading pymorphy2-0.9.1-py3-none-any.whl (55 kB)\n",
      "\u001b[K     |████████████████████████████████| 55 kB 3.6 MB/s  eta 0:00:01\n",
      "\u001b[?25hCollecting pymorphy2-dicts-ru<3.0,>=2.4\n",
      "  Downloading pymorphy2_dicts_ru-2.4.417127.4579844-py2.py3-none-any.whl (8.2 MB)\n",
      "\u001b[K     |████████████████████████████████| 8.2 MB 36.3 MB/s \n",
      "\u001b[?25hRequirement already satisfied: docopt>=0.6 in /usr/local/lib/python3.7/dist-packages (from pymorphy2) (0.6.2)\n",
      "Collecting dawg-python>=0.7.1\n",
      "  Downloading DAWG_Python-0.7.2-py2.py3-none-any.whl (11 kB)\n",
      "Installing collected packages: pymorphy2-dicts-ru, dawg-python, pymorphy2\n",
      "Successfully installed dawg-python-0.7.2 pymorphy2-0.9.1 pymorphy2-dicts-ru-2.4.417127.4579844\n"
     ]
    }
   ],
   "source": [
    "!pip install pymorphy2"
   ]
  },
  {
   "cell_type": "code",
   "execution_count": null,
   "metadata": {
    "colab": {
     "base_uri": "https://localhost:8080/"
    },
    "id": "HEDsNYj3j0MI",
    "outputId": "576e0c95-bad6-4647-c171-4479a5359529"
   },
   "outputs": [
    {
     "name": "stderr",
     "output_type": "stream",
     "text": [
      "2022-03-19 10:27:58,580 : INFO : Loading dictionaries from /usr/local/lib/python3.7/dist-packages/pymorphy2_dicts_ru/data\n",
      "2022-03-19 10:27:58,638 : INFO : format: 2.4, revision: 417127, updated: 2020-10-11T15:05:51.070345\n"
     ]
    }
   ],
   "source": [
    "from pymorphy2 import MorphAnalyzer\n",
    "parser = MorphAnalyzer ()"
   ]
  },
  {
   "cell_type": "markdown",
   "metadata": {
    "id": "8SPyJMXtpkRK"
   },
   "source": [
    "Напишем функцию для лемматизации — такую же, как уже использованые нами ранее в других темах"
   ]
  },
  {
   "cell_type": "code",
   "execution_count": null,
   "metadata": {
    "id": "OIcpaDKmj2EC"
   },
   "outputs": [],
   "source": [
    "def lemmatize_text (some_tokens):\n",
    "  lemmatized = []\n",
    "  for token in some_tokens:\n",
    "    lemmatized_token = parser.parse(token)[0].normal_form\n",
    "    lemmatized.append (lemmatized_token)\n",
    "  return lemmatized"
   ]
  },
  {
   "cell_type": "code",
   "execution_count": null,
   "metadata": {
    "id": "vlhNsqb8kKDa"
   },
   "outputs": [],
   "source": [
    "texts = ['у нас лук растет на грядке',\n",
    "         'составной лук — оружие кочевников',\n",
    "         'у маши модный лук в инсте',\n",
    "         'питаться зеленым луком полезно для здоровья',\n",
    "         'кликни мышью по всплывающему окну на экране',\n",
    "         'домовые мыши очень плодовиты и размножаются круглый год',\n",
    "         'серая мышь грызет сыр']\n",
    "lemmatized_texts = [lemmatize_text (text.split()) for text in texts]"
   ]
  },
  {
   "cell_type": "code",
   "execution_count": null,
   "metadata": {
    "colab": {
     "base_uri": "https://localhost:8080/"
    },
    "id": "GLQYHa1BkXyr",
    "outputId": "ed8f740c-b430-4583-888e-a3e75064d56f"
   },
   "outputs": [
    {
     "data": {
      "text/plain": [
       "[['у', 'мы', 'лук', 'расти', 'на', 'грядка'],\n",
       " ['составной', 'лук', '—', 'оружие', 'кочевник'],\n",
       " ['у', 'маша', 'модный', 'лук', 'в', 'инст'],\n",
       " ['питаться', 'зелёный', 'лук', 'полезно', 'для', 'здоровье'],\n",
       " ['кликнуть', 'мыший', 'по', 'всплывать', 'окно', 'на', 'экран'],\n",
       " ['домовый',\n",
       "  'мышь',\n",
       "  'очень',\n",
       "  'плодовитый',\n",
       "  'и',\n",
       "  'размножаться',\n",
       "  'круглый',\n",
       "  'год'],\n",
       " ['серый', 'мышь', 'грызть', 'сыр']]"
      ]
     },
     "execution_count": 73,
     "metadata": {},
     "output_type": "execute_result"
    }
   ],
   "source": [
    "lemmatized_texts"
   ]
  },
  {
   "cell_type": "code",
   "execution_count": null,
   "metadata": {
    "colab": {
     "base_uri": "https://localhost:8080/"
    },
    "id": "YFIVAWgrkeOt",
    "outputId": "3d851cf0-9f20-43c9-d73a-862109631464"
   },
   "outputs": [
    {
     "name": "stderr",
     "output_type": "stream",
     "text": [
      "2022-03-19 10:28:23,450 : INFO : Warming up ELMo on 7 sentences...\n",
      "2022-03-19 10:28:24,338 : INFO : Warming up finished.\n",
      "2022-03-19 10:28:24,341 : INFO : Texts in the current batch: 7\n"
     ]
    }
   ],
   "source": [
    "vectors = model.get_elmo_vectors(lemmatized_texts)"
   ]
  },
  {
   "cell_type": "markdown",
   "metadata": {
    "id": "kejQJSyp2T3X"
   },
   "source": [
    "еще можно загрузить Elmo-модель, обученную на леммах (например, №196)"
   ]
  },
  {
   "cell_type": "code",
   "execution_count": null,
   "metadata": {
    "id": "FekXzRSekh32"
   },
   "outputs": [],
   "source": [
    "onion = vectors[0][2] # 🌰\n",
    "bow = vectors[1][1] # 🏹\n",
    "look = vectors[2][3] # 🤳\n",
    "onion2 = vectors[3][2] # 🌰 \n",
    "mouse_computer = vectors[4][1] # 🖱️ \n",
    "mouse_rodent = vectors[5][1] # 🐁\n",
    "mouse_rodent_2 = vectors[6][1] # 🐁"
   ]
  },
  {
   "cell_type": "code",
   "execution_count": null,
   "metadata": {
    "colab": {
     "base_uri": "https://localhost:8080/"
    },
    "id": "msUdidheklKP",
    "outputId": "eb20a483-c34e-4e2a-fdb1-427d3bf19442"
   },
   "outputs": [
    {
     "data": {
      "text/plain": [
       "0.31874560067579616"
      ]
     },
     "execution_count": 76,
     "metadata": {},
     "output_type": "execute_result"
    }
   ],
   "source": [
    "spatial.distance.cosine(onion, bow)"
   ]
  },
  {
   "cell_type": "code",
   "execution_count": null,
   "metadata": {
    "colab": {
     "base_uri": "https://localhost:8080/"
    },
    "id": "ovvlPd4skmCT",
    "outputId": "159eb578-b517-4295-9540-c07f6e3a1be0"
   },
   "outputs": [
    {
     "data": {
      "text/plain": [
       "0.2951277490711077"
      ]
     },
     "execution_count": 78,
     "metadata": {
      "tags": []
     },
     "output_type": "execute_result"
    }
   ],
   "source": [
    "spatial.distance.cosine(onion, onion2)"
   ]
  },
  {
   "cell_type": "markdown",
   "metadata": {
    "id": "PujbvDLkk89X"
   },
   "source": [
    "Лук исправился, хотя еле-еле"
   ]
  },
  {
   "cell_type": "code",
   "execution_count": null,
   "metadata": {
    "colab": {
     "base_uri": "https://localhost:8080/"
    },
    "id": "uTk85Umwk62R",
    "outputId": "e0c2f619-f448-4ef3-8118-419d9e6998c1"
   },
   "outputs": [
    {
     "data": {
      "text/plain": [
       "0.5913917867051948"
      ]
     },
     "execution_count": 79,
     "metadata": {
      "tags": []
     },
     "output_type": "execute_result"
    }
   ],
   "source": [
    "spatial.distance.cosine(mouse_computer, mouse_rodent)"
   ]
  },
  {
   "cell_type": "code",
   "execution_count": null,
   "metadata": {
    "colab": {
     "base_uri": "https://localhost:8080/"
    },
    "id": "M2FQPXrKk791",
    "outputId": "bc335978-60b6-4873-cdaf-774eca8da625"
   },
   "outputs": [
    {
     "data": {
      "text/plain": [
       "0.4919093131064951"
      ]
     },
     "execution_count": 80,
     "metadata": {
      "tags": []
     },
     "output_type": "execute_result"
    }
   ],
   "source": [
    "spatial.distance.cosine(mouse_computer, mouse_rodent_2)"
   ]
  },
  {
   "cell_type": "code",
   "execution_count": null,
   "metadata": {
    "colab": {
     "base_uri": "https://localhost:8080/"
    },
    "id": "vZ-tza9DlCdm",
    "outputId": "10d2c599-14d3-4e4f-9dfa-09ef6f22761b"
   },
   "outputs": [
    {
     "data": {
      "text/plain": [
       "0.18694257747630627"
      ]
     },
     "execution_count": 81,
     "metadata": {
      "tags": []
     },
     "output_type": "execute_result"
    }
   ],
   "source": [
    "spatial.distance.cosine(mouse_rodent, mouse_rodent_2)"
   ]
  },
  {
   "cell_type": "markdown",
   "metadata": {
    "id": "5ATppaPRlEgj"
   },
   "source": [
    "А вот с мышью прям ощутимо лучше. "
   ]
  },
  {
   "cell_type": "code",
   "execution_count": null,
   "metadata": {
    "colab": {
     "base_uri": "https://localhost:8080/",
     "height": 265
    },
    "id": "2pnAx-u7-wJu",
    "outputId": "4c27785d-7962-4dca-90e9-b74cf625b722"
   },
   "outputs": [
    {
     "data": {
      "image/png": "[encoded data removed]",
      "text/plain": [
       "<Figure size 432x288 with 1 Axes>"
      ]
     },
     "metadata": {
      "needs_background": "light",
      "tags": []
     },
     "output_type": "display_data"
    }
   ],
   "source": [
    "pca_for_words = PCA ().fit_transform ([onion, bow, look, onion2, mouse_computer, mouse_rodent, mouse_rodent_2])\n",
    "selected_vectors = [onion, bow, look, onion2, mouse_computer, mouse_rodent, mouse_rodent_2]\n",
    "labels = ['onion', 'bow', 'look', 'onion2', 'mouse_computer', 'mouse_rodent', 'mouse_rodent_2']\n",
    "\n",
    "for vector_index in range (len(selected_vectors)):\n",
    "  plt.scatter (pca_for_words[vector_index][0], pca_for_words[vector_index][1])\n",
    "  plt.text(pca_for_words[vector_index][0], pca_for_words[vector_index][1], labels[vector_index], fontsize=9)"
   ]
  },
  {
   "cell_type": "markdown",
   "metadata": {
    "id": "AoYU5FA7_DbH"
   },
   "source": [
    "## P.S.: Пробуем лемматизированную модель (не обязательно)"
   ]
  },
  {
   "cell_type": "markdown",
   "metadata": {
    "id": "IJ-QAC1Rjqqr"
   },
   "source": [
    "Кстати, кроме этой модели все [остальные](https://rusvectores.org/ru/models/) контекстуализированные модели в RusVectores — лемматизированные (т.е. обучены только на леммах, и подавать им надо лемматизированный текст). Можем воспользоваться одной из них: "
   ]
  },
  {
   "cell_type": "code",
   "execution_count": null,
   "metadata": {
    "id": "dzwdGNQolNkt"
   },
   "outputs": [],
   "source": [
    "!wget 'http://vectors.nlpl.eu/repository/20/196.zip'"
   ]
  },
  {
   "cell_type": "markdown",
   "metadata": {
    "id": "3dH6z3Zeq6LP"
   },
   "source": [
    "Правда, из-за особенностей работ ELMo нам придется перезагрузить среду выполнения, чтобы загрузка новой модели сработала.\n",
    "\n",
    "<img src='https://github.com/dhhse/dh2020/raw/master/pics/restart_env.png'>"
   ]
  },
  {
   "cell_type": "markdown",
   "metadata": {
    "id": "Xhcex6KTtAhm"
   },
   "source": [
    "Из-за этого придется заново импортировать все библиотеки и определять функции. Но скачанные файлы сохранились, модели перезагружать не понадобится. "
   ]
  },
  {
   "cell_type": "code",
   "execution_count": null,
   "metadata": {
    "id": "BVmYXVyPnOEv"
   },
   "outputs": [],
   "source": [
    "from simple_elmo import ElmoModel"
   ]
  },
  {
   "cell_type": "code",
   "execution_count": null,
   "metadata": {
    "id": "62Ql0XjklO9a"
   },
   "outputs": [],
   "source": [
    "model_lemmas = ElmoModel()"
   ]
  },
  {
   "cell_type": "code",
   "execution_count": null,
   "metadata": {
    "id": "HmRzEcZHmukJ"
   },
   "outputs": [],
   "source": [
    "model_lemmas.load(\"196.zip\")"
   ]
  },
  {
   "cell_type": "code",
   "execution_count": null,
   "metadata": {
    "id": "34ZxyHdYqByG"
   },
   "outputs": [],
   "source": [
    "from pymorphy2 import MorphAnalyzer\n",
    "parser = MorphAnalyzer ()"
   ]
  },
  {
   "cell_type": "code",
   "execution_count": null,
   "metadata": {
    "id": "y-JK-W_SqK1V"
   },
   "outputs": [],
   "source": [
    "def lemmatize_text (some_tokens):\n",
    "  lemmatized = []\n",
    "  for token in some_tokens:\n",
    "    lemmatized_token = parser.parse(token)[0].normal_form\n",
    "    lemmatized.append (lemmatized_token)\n",
    "  return lemmatized"
   ]
  },
  {
   "cell_type": "code",
   "execution_count": null,
   "metadata": {
    "id": "3c4NVDK4p6LZ"
   },
   "outputs": [],
   "source": [
    "texts = ['у нас лук растет на грядке',\n",
    "         'составной лук — оружие кочевников',\n",
    "         'у маши модный лук в инсте',\n",
    "         'питаться зеленым луком полезно для здоровья',\n",
    "         'кликни мышью по всплывающему окну на экране',\n",
    "         'домовые мыши очень плодовиты и размножаются круглый год',\n",
    "         'серая мышь грызет сыр']\n",
    "lemmatized_texts = [lemmatize_text (text.split()) for text in texts]"
   ]
  },
  {
   "cell_type": "code",
   "execution_count": null,
   "metadata": {
    "id": "foX63zD2mw2Q"
   },
   "outputs": [],
   "source": [
    "vectors = model_lemmas.get_elmo_vectors(lemmatized_texts)"
   ]
  },
  {
   "cell_type": "code",
   "execution_count": null,
   "metadata": {
    "id": "PsUHKklbp0XQ"
   },
   "outputs": [],
   "source": [
    "onion = vectors[0][2] # 🌰\n",
    "bow = vectors[1][1] # 🏹\n",
    "look = vectors[2][3] # 🤳\n",
    "onion2 = vectors[3][2] # 🌰 \n",
    "mouse_computer = vectors[4][1] # 🖱️ \n",
    "mouse_rodent = vectors[5][1] # 🐁\n",
    "mouse_rodent_2 = vectors[6][1] # 🐁"
   ]
  },
  {
   "cell_type": "code",
   "execution_count": null,
   "metadata": {
    "id": "8MT2VlV4qRD-"
   },
   "outputs": [],
   "source": [
    "from scipy import spatial"
   ]
  },
  {
   "cell_type": "code",
   "execution_count": null,
   "metadata": {
    "id": "VrJtrLCFqavJ"
   },
   "outputs": [],
   "source": [
    "spatial.distance.cosine(onion, onion)"
   ]
  },
  {
   "cell_type": "code",
   "execution_count": null,
   "metadata": {
    "id": "9TQOVpMgqdUP"
   },
   "outputs": [],
   "source": [
    "spatial.distance.cosine(onion, bow)"
   ]
  },
  {
   "cell_type": "code",
   "execution_count": null,
   "metadata": {
    "id": "JQFYGX_BqfN6"
   },
   "outputs": [],
   "source": [
    "spatial.distance.cosine(onion, onion2)"
   ]
  },
  {
   "cell_type": "code",
   "execution_count": null,
   "metadata": {
    "id": "lEtxFp4otUGS"
   },
   "outputs": [],
   "source": [
    "spatial.distance.cosine(bow, onion2)"
   ]
  },
  {
   "cell_type": "code",
   "execution_count": null,
   "metadata": {
    "id": "QyTl9Fk7qOmy"
   },
   "outputs": [],
   "source": [
    "spatial.distance.cosine(mouse_computer, mouse_rodent)"
   ]
  },
  {
   "cell_type": "code",
   "execution_count": null,
   "metadata": {
    "id": "Uoyw6vjHqVxQ"
   },
   "outputs": [],
   "source": [
    "spatial.distance.cosine(mouse_computer, mouse_rodent_2)"
   ]
  },
  {
   "cell_type": "code",
   "execution_count": null,
   "metadata": {
    "id": "CMmzBWZ6qjTb"
   },
   "outputs": [],
   "source": [
    "spatial.distance.cosine(mouse_rodent, mouse_rodent_2)"
   ]
  },
  {
   "cell_type": "markdown",
   "metadata": {
    "id": "aIwHFAUX_IqX"
   },
   "source": [
    "# Как это использовать в практических задачах?"
   ]
  },
  {
   "cell_type": "markdown",
   "metadata": {
    "id": "g-wOLbhs8ezF"
   },
   "source": [
    "Окей, про ELMo мы поняли, а как это все использовать кроме векторной математики со словами?\n",
    "\n",
    "Как и в случае со статическими моделями: раз мы можем превратить в вектор слово — можем и предложение, и целый текст. Дальше на таких векторах можно решать любые задачи NLP.\n",
    "\n",
    "Для удобства для векторизации предложения в simple elmo есть специальный метод `get_elmo_vector_average()`, который генерирует средний вектор для каждого предложения. Но вы можете и сами усреднить векторы. "
   ]
  },
  {
   "cell_type": "markdown",
   "metadata": {
    "id": "0PhZPXjvQJ62"
   },
   "source": [
    "А вот несколько ссылок от команды RusVectores с практическим применением ELMo:\n",
    "\n",
    "\n",
    "\n",
    "*   [Генерация векторов слов для корпуса из файла на диске](https://github.com/ltgoslo/simple_elmo/blob/master/simple_elmo/examples/get_elmo_vectors.py)\n",
    "*   [Оценка качества модели на задаче классификации текстов](https://github.com/ltgoslo/simple_elmo/blob/master/simple_elmo/examples/text_classification.py)\n",
    "*   [Оценка качества модели на задаче word sense disambiguation](https://github.com/ltgoslo/simple_elmo/blob/master/simple_elmo/examples/wsd_eval.py)\n",
    "\n"
   ]
  }
 ],
 "metadata": {
  "colab": {
   "collapsed_sections": [],
   "name": "Векторная_семантика_2_контекст_эмбеддинги,_ELMo.ipynb",
   "provenance": []
  },
  "kernelspec": {
   "display_name": "Python 3 (ipykernel)",
   "language": "python",
   "name": "python3"
  },
  "language_info": {
   "codemirror_mode": {
    "name": "ipython",
    "version": 3
   },
   "file_extension": ".py",
   "mimetype": "text/x-python",
   "name": "python",
   "nbconvert_exporter": "python",
   "pygments_lexer": "ipython3",
   "version": "3.10.0"
  }
 },
 "nbformat": 4,
 "nbformat_minor": 4
}
